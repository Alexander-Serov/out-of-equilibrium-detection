{
 "cells": [
  {
   "cell_type": "markdown",
   "metadata": {},
   "source": [
    "# Initialize"
   ]
  },
  {
   "cell_type": "code",
   "execution_count": null,
   "metadata": {},
   "outputs": [],
   "source": [
    "# %matplotlib \n",
    "%load_ext autoreload\n",
    "%autoreload 2"
   ]
  },
  {
   "cell_type": "code",
   "execution_count": null,
   "metadata": {},
   "outputs": [],
   "source": [
    "\"\"\"\n",
    "Investigate the behavior of connected particles through statistical tests based on a periodogram\n",
    "\"\"\"\n",
    "\n",
    "# try:\n",
    "#     bl_has_run\n",
    "#\n",
    "# except Exception:\n",
    "#     %matplotlib\n",
    "#     %load_ext autoreload\n",
    "#     %autoreload 2\n",
    "#     bl_has_run = True\n",
    "\n",
    "import cProfile\n",
    "import os\n",
    "import pickle\n",
    "import pstats\n",
    "import re\n",
    "\n",
    "import matplotlib.pyplot as plt\n",
    "import numpy as np\n",
    "from numpy import arctan, cos, log, pi, sin\n",
    "from scipy.fftpack import fft\n",
    "from scipy.optimize import minimize, root_scalar\n",
    "# eqn(sol.root, sol.root / (alpha + 1)) / eqn(sol.root, D_interval[1])\n",
    "from scipy.special import gammaln\n",
    "from tqdm import tqdm\n",
    "import logging\n",
    "\n",
    "from likelihood import (estimate_sigma2_matrix,\n",
    "                        get_ln_likelihood_func_2_particles_x_link,\n",
    "                        get_ln_likelihood_func_no_link, get_MLE,\n",
    "                        get_sigma2_matrix_func)\n",
    "#  Load and plot data of the test result as a function of the link strength\n",
    "from plot import (plot_angle_dependence, plot_diffusivity_dependence,\n",
    "                  plot_link_strength_dependence, plot_localization_dependence,\n",
    "                  plot_periodogram, contour_plot_free_dumbbell_same_D,\n",
    "                 contour_plot_localized_eta12_v_eta1_eta2, contour_plot_localized_eta12_v_gamma, \n",
    "                  contour_plot_localized_eta12_v_eta_ratio, contour_plot_localized_gamma_v_eta,\n",
    "                 contour_plot_localized_gamma_v_eta_ratio, contour_plot_localized_eta12_v_M, contour_plot_localized_gamma_v_M, \n",
    "                  contour_plot_localized_eta12_v_eta)\n",
    "from simulate import simulate_2_confined_particles_with_fixed_angle_bond\n",
    "from support import (calculate_min_number_of_tries_with_a_binomial_model,\n",
    "                     get_rotation_matrix, locally_rotate_a_vector)\n",
    "from EnergyTransferResults import EnergyTransferResults\n",
    "\n",
    "arguments_file = 'arguments.dat'\n",
    "\n",
    "def clear_arguments_file(cluster):\n",
    "    if cluster: \n",
    "        try:    \n",
    "            os.unlink(arguments_file)\n",
    "        except OSError:\n",
    "            pass\n",
    "\n",
    "#  Constants\n",
    "D2 = 0.4  # um^2/s\n",
    "D1 = 5 * D2   # um^2/s; 0.4\n",
    "n1 = 2e3\n",
    "n2 = 2e3\n",
    "n12 = 10 * n2  # s^{-1}. Somehting interesting happens between [1e-9; 1e-6]\n",
    "N = 101  # required number of points in a trajectory\n",
    "dt = 0.05  # s 0.3\n",
    "gamma = 1e-8    # viscous drag, in kg/s\n",
    "L = 0.5\n",
    "angle = 0\n",
    "trial = 0   # the trial number\n",
    "\n",
    "\n",
    "\n",
    "\n",
    "k1, k2, k12 = np.array([n1, n2, n12]) * gamma\n",
    "T = dt * (N - 1)  # s\n",
    "M = N - 1\n",
    "\n",
    "true_parameters = {name: val for name, val in zip(\n",
    "    ('D1 D2 n1 n2 n12 gamma T dt angle L trial M'.split()),\n",
    "    (D1, D2, n1, n2, n12, gamma, T, dt, angle, L, trial, M))}"
   ]
  },
  {
   "cell_type": "code",
   "execution_count": null,
   "metadata": {},
   "outputs": [],
   "source": [
    "# exact:\n",
    "# a0eee63cfa1c82304d1ee740c13c900d\n",
    "# 0.4 0.4 0 0 0.19999999999999998 0.05 0 0.014142135623730954 0 100 free_same_D 0\n",
    "\n",
    "# arg_string:\n",
    "# a0eee63cfa1c82304d1ee740c13c900d\n",
    "# 0.4 0.4 0.0 0.0 0.2 0.05 0 0.0141421 0 100 free_same_D False\n"
   ]
  },
  {
   "cell_type": "markdown",
   "metadata": {},
   "source": [
    "## Testing the new free Hookean dumbbell model"
   ]
  },
  {
   "cell_type": "code",
   "execution_count": null,
   "metadata": {},
   "outputs": [],
   "source": [
    "recalculate_trajectory = 0\n",
    "# recalculate_BF = 1\n",
    "cluster = 1\n",
    "\n",
    "l0_range=[3e-1, 1e4]\n",
    "eta_range=[1e-2, 1e3]\n",
    "\n",
    "clear_arguments_file(cluster)\n",
    "    \n",
    "#\n",
    "lgbfvals = contour_plot_free_dumbbell_same_D(trials=100, Ms=[1000], l0_range=l0_range, eta_range=eta_range, \n",
    "                                             verbose=False, recalculate_trajectory=recalculate_trajectory,\n",
    "                                      cluster=cluster, dt = 0.5)\n",
    "\n",
    "# l0_range=[1e-1, 1e4], eta_range=[1e-5, 1e3]\n",
    "# l0_range=[1e-1, 1e3], eta_range=[1e-2, 1e2]"
   ]
  },
  {
   "cell_type": "code",
   "execution_count": null,
   "metadata": {},
   "outputs": [],
   "source": [
    "recalculate_trajectory = 0\n",
    "# recalculate_BF = 1\n",
    "cluster = 1\n",
    "\n",
    "l0_range=[1e-1, 1e5]\n",
    "eta_range=[1e-2, 200]\n",
    "\n",
    "clear_arguments_file(cluster)\n",
    "    \n",
    "#\n",
    "lgbfvals = contour_plot_free_dumbbell_same_D(trials=10, Ms=[200, 1000], l0_range=l0_range, eta_range=eta_range, \n",
    "                                             verbose=False, recalculate_trajectory=recalculate_trajectory,\n",
    "                                      cluster=cluster, dt = 0.05)\n",
    "\n",
    "# l0_range=[1e-1, 1e4], eta_range=[1e-5, 1e3]\n",
    "# l0_range=[1e-1, 1e3], eta_range=[1e-2, 1e2]"
   ]
  },
  {
   "cell_type": "markdown",
   "metadata": {},
   "source": [
    "# 2D plots for the localized system"
   ]
  },
  {
   "cell_type": "markdown",
   "metadata": {},
   "source": [
    "## Initialization cell"
   ]
  },
  {
   "cell_type": "code",
   "execution_count": null,
   "metadata": {},
   "outputs": [],
   "source": [
    "recalculate_trajectory = 0\n",
    "cluster = 1\n",
    "\n",
    "clear_arguments_file(cluster)\n",
    "group_calculation = True\n",
    "trials_low_res = 50\n",
    "trials_high_res = 200\n",
    "Ms = (1000, )\n",
    "gamma_range = (1e-2, 100)\n",
    "eta12_range = (1e-3, 100)\n",
    "eta_range =  (1e-2, 100)\n",
    "# eta_ratio_range= (1e-3, 1e3)\n",
    "M_range= list(range(1,10)) +  list(range(10,100,10)) + list(range(100, 1000, 100))\n",
    "\n",
    "\n",
    "if recalculate_trajectory:\n",
    "    logging.warning(\"Trajectories will be recalculated!\")"
   ]
  },
  {
   "cell_type": "markdown",
   "metadata": {},
   "source": [
    "## The cells below investigate the dependence on various combinations of the 5 parameters of the model"
   ]
  },
  {
   "cell_type": "markdown",
   "metadata": {},
   "source": [
    "## Link strength and diffusivity ratio $\\lg B(\\eta_{12}, \\gamma \\equiv D_1/D_2)$"
   ]
  },
  {
   "cell_type": "code",
   "execution_count": null,
   "metadata": {},
   "outputs": [],
   "source": [
    "if not group_calculation:\n",
    "    clear_arguments_file(cluster)\n",
    "    \n",
    "_ = contour_plot_localized_eta12_v_gamma(\n",
    "    trials=trials_low_res,\n",
    "    verbose=False,\n",
    "    recalculate_trajectory=recalculate_trajectory,\n",
    "    cluster=cluster,\n",
    "    Ms= Ms,\n",
    "    eta12_range=eta12_range,\n",
    "    gamma_range=gamma_range,\n",
    "    dt=0.05,\n",
    "    angle=0,\n",
    ")"
   ]
  },
  {
   "cell_type": "markdown",
   "metadata": {},
   "source": [
    "## Link strength and localization $\\lg B(\\eta_{12}, \\eta_1)$"
   ]
  },
  {
   "cell_type": "code",
   "execution_count": null,
   "metadata": {},
   "outputs": [],
   "source": [
    "if not group_calculation:\n",
    "    clear_arguments_file(cluster)\n",
    "    \n",
    "_ = contour_plot_localized_eta12_v_eta(\n",
    "    var = 'eta1',\n",
    "    trials=trials_high_res,\n",
    "    verbose=False,\n",
    "    recalculate_trajectory=recalculate_trajectory,\n",
    "    cluster=cluster,\n",
    "    Ms= Ms,\n",
    "    eta12_range=eta12_range,\n",
    "    eta_range=eta_range,\n",
    "    dt=0.05,\n",
    "    angle=0,\n",
    ")"
   ]
  },
  {
   "cell_type": "markdown",
   "metadata": {},
   "source": [
    "## Link strength and localization $\\lg B(\\eta_{12}, \\eta_2)$"
   ]
  },
  {
   "cell_type": "code",
   "execution_count": null,
   "metadata": {},
   "outputs": [],
   "source": [
    "if not group_calculation:\n",
    "    clear_arguments_file(cluster)\n",
    "    \n",
    "_ = contour_plot_localized_eta12_v_eta(\n",
    "    var = 'eta2',\n",
    "    trials=trials_low_res,\n",
    "    verbose=False,\n",
    "    recalculate_trajectory=recalculate_trajectory,\n",
    "    cluster=cluster,\n",
    "    Ms= Ms,\n",
    "    eta12_range=eta12_range,\n",
    "    eta_range=eta_range,\n",
    "    dt=0.05,\n",
    "    angle=0,\n",
    ")"
   ]
  },
  {
   "cell_type": "markdown",
   "metadata": {},
   "source": [
    "## Link strength and trajectory length $\\lg B(\\eta_{12}, M)$"
   ]
  },
  {
   "cell_type": "code",
   "execution_count": null,
   "metadata": {},
   "outputs": [],
   "source": [
    "if not group_calculation:\n",
    "    clear_arguments_file(cluster)\n",
    "    \n",
    "_ = contour_plot_localized_eta12_v_M(\n",
    "        trials=trials_low_res,\n",
    "        verbose=False,\n",
    "        recalculate_trajectory=recalculate_trajectory,\n",
    "        cluster=cluster,\n",
    "        eta12_range=eta12_range,\n",
    "        M_range=M_range,\n",
    "        dt=0.05,\n",
    "        angle=0,\n",
    ")"
   ]
  },
  {
   "cell_type": "markdown",
   "metadata": {},
   "source": [
    "## Diffusivity ratio and localization $\\lg B(\\gamma, \\eta_1)$"
   ]
  },
  {
   "cell_type": "code",
   "execution_count": null,
   "metadata": {},
   "outputs": [],
   "source": [
    "if not group_calculation:\n",
    "    clear_arguments_file(cluster)\n",
    "    \n",
    "_ = contour_plot_localized_gamma_v_eta(\n",
    "        var = 'eta1',\n",
    "        trials=trials_high_res,\n",
    "        verbose=False,\n",
    "        recalculate_trajectory=recalculate_trajectory,\n",
    "        cluster=cluster,\n",
    "        Ms= Ms,\n",
    "        gamma_range=gamma_range,\n",
    "        eta_range=eta_range,\n",
    "        dt=0.05,\n",
    "        angle=0,\n",
    ")"
   ]
  },
  {
   "cell_type": "markdown",
   "metadata": {},
   "source": [
    "## Diffusivity ratio and localization $\\lg B(\\gamma, \\eta_2)$"
   ]
  },
  {
   "cell_type": "code",
   "execution_count": null,
   "metadata": {},
   "outputs": [],
   "source": [
    "if not group_calculation:\n",
    "    clear_arguments_file(cluster)\n",
    "    \n",
    "_ = contour_plot_localized_gamma_v_eta(\n",
    "        var = 'eta2',\n",
    "        trials=trials_low_res,\n",
    "        verbose=False,\n",
    "        recalculate_trajectory=recalculate_trajectory,\n",
    "        cluster=cluster,\n",
    "        Ms= Ms,\n",
    "        gamma_range=gamma_range,\n",
    "        eta_range=eta_range,\n",
    "        dt=0.05,\n",
    "        angle=0,\n",
    ")"
   ]
  },
  {
   "cell_type": "markdown",
   "metadata": {},
   "source": [
    "## Diffusivity ratio and trajectory length $\\lg B(\\gamma, M)$"
   ]
  },
  {
   "cell_type": "code",
   "execution_count": null,
   "metadata": {},
   "outputs": [],
   "source": [
    "if not group_calculation:\n",
    "    clear_arguments_file(cluster)\n",
    "    \n",
    "_ = contour_plot_localized_gamma_v_M(\n",
    "        trials=trials_low_res,\n",
    "        verbose=False,\n",
    "        recalculate_trajectory=recalculate_trajectory,\n",
    "        cluster=cluster,\n",
    "        gamma_range=gamma_range,\n",
    "        M_range=M_range,\n",
    "        dt=0.05,\n",
    "        angle=0,\n",
    ")"
   ]
  },
  {
   "cell_type": "markdown",
   "metadata": {},
   "source": [
    "# Test for energy transfer"
   ]
  },
  {
   "cell_type": "code",
   "execution_count": null,
   "metadata": {},
   "outputs": [],
   "source": [
    "from plot import contour_plot_localized_eta12_v_gamma_energy_transfer_triple_test\n",
    "clear_arguments_file(cluster)\n",
    "group_calculation = False"
   ]
  },
  {
   "cell_type": "markdown",
   "metadata": {},
   "source": [
    "## Link strength and diffusivity ratio $\\lg B(\\eta_{12}, \\gamma \\equiv D_1/D_2)$"
   ]
  },
  {
   "cell_type": "code",
   "execution_count": null,
   "metadata": {},
   "outputs": [],
   "source": [
    "if not group_calculation:\n",
    "    clear_arguments_file(cluster)\n",
    "    \n",
    "_ = contour_plot_localized_eta12_v_gamma_energy_transfer_triple_test(\n",
    "    trials=trials_high_res,\n",
    "    verbose=False,\n",
    "    recalculate_trajectory=recalculate_trajectory,\n",
    "    cluster=cluster,\n",
    "    Ms= Ms,\n",
    "    eta12_range=eta12_range,\n",
    "    gamma_range=gamma_range,\n",
    "    dt=0.05,\n",
    "    angle=0,\n",
    "    print_MLE = False,\n",
    "    mesh_resolution = 2**4 + 1,\n",
    ")"
   ]
  },
  {
   "cell_type": "code",
   "execution_count": null,
   "metadata": {},
   "outputs": [],
   "source": [
    "help(EnergyTransferResults.__init__)"
   ]
  },
  {
   "cell_type": "markdown",
   "metadata": {},
   "source": [
    "Class version of energy transfer scheduling"
   ]
  },
  {
   "cell_type": "code",
   "execution_count": null,
   "metadata": {},
   "outputs": [],
   "source": [
    "def update_x(args_dict, x):\n",
    "    D1 = D2 * x\n",
    "    args_dict.update({'D1': D1})\n",
    "\n",
    "def update_y(args_dict, y):\n",
    "    args_dict.update({'n12': y / dt})    \n",
    "\n",
    "if not group_calculation:\n",
    "    clear_arguments_file(cluster)\n",
    "\n",
    "results_eta12_gamma = EnergyTransferResults(\n",
    "    trials=trials_high_res,\n",
    "    resolution=4,\n",
    "    verbose=False,\n",
    "    cluster=cluster,\n",
    "    Ms=Ms,\n",
    "    x_label=r'$\\eta_1 / \\eta_2 \\equiv n_1 / n_2$',\n",
    "    x_range=gamma_range,\n",
    "    update_x=update_x,    \n",
    "    y_label=r'$\\eta_{12}$',\n",
    "    y_range=eta12_range,\n",
    "    update_y = update_y,\n",
    "    dt=0.05,\n",
    "    angle=0,\n",
    "    rotation=True,\n",
    "    print_MLE=False,\n",
    "    title = 'n1={n1:.2f}, n2={n2:.2f}, D2={D2:.2f},\\ndt={dt}, L0={L0:.2f}',\n",
    "    figname_base='localized_gamma_v_eta12_energy_transfer',\n",
    ")\n",
    "    "
   ]
  },
  {
   "cell_type": "code",
   "execution_count": null,
   "metadata": {},
   "outputs": [],
   "source": [
    "results_eta12_gamma.run()"
   ]
  },
  {
   "cell_type": "markdown",
   "metadata": {},
   "source": [
    "## Link strength and localization $\\lg B(\\eta_{12}, \\eta_1)$"
   ]
  },
  {
   "cell_type": "code",
   "execution_count": null,
   "metadata": {},
   "outputs": [],
   "source": [
    "if not group_calculation:\n",
    "    clear_arguments_file(cluster)\n",
    "    \n",
    "_ = contour_plot_localized_eta12_v_eta(\n",
    "    var = 'eta1',\n",
    "    trials=trials_high_res,\n",
    "    verbose=False,\n",
    "    recalculate_trajectory=recalculate_trajectory,\n",
    "    cluster=cluster,\n",
    "    Ms= Ms,\n",
    "    eta12_range=eta12_range,\n",
    "    eta_range=eta_range,\n",
    "    dt=0.05,\n",
    "    angle=0,\n",
    ")"
   ]
  },
  {
   "cell_type": "markdown",
   "metadata": {},
   "source": [
    "## Link strength and localization $\\lg B(\\eta_{12}, \\eta_2)$"
   ]
  },
  {
   "cell_type": "code",
   "execution_count": null,
   "metadata": {},
   "outputs": [],
   "source": [
    "if not group_calculation:\n",
    "    clear_arguments_file(cluster)\n",
    "    \n",
    "_ = contour_plot_localized_eta12_v_eta(\n",
    "    var = 'eta2',\n",
    "    trials=trials_low_res,\n",
    "    verbose=False,\n",
    "    recalculate_trajectory=recalculate_trajectory,\n",
    "    cluster=cluster,\n",
    "    Ms= Ms,\n",
    "    eta12_range=eta12_range,\n",
    "    eta_range=eta_range,\n",
    "    dt=0.05,\n",
    "    angle=0,\n",
    ")"
   ]
  },
  {
   "cell_type": "markdown",
   "metadata": {},
   "source": [
    "## Link strength and trajectory length $\\lg B(\\eta_{12}, M)$"
   ]
  },
  {
   "cell_type": "code",
   "execution_count": null,
   "metadata": {},
   "outputs": [],
   "source": [
    "if not group_calculation:\n",
    "    clear_arguments_file(cluster)\n",
    "    \n",
    "_ = contour_plot_localized_eta12_v_M(\n",
    "        trials=trials_low_res,\n",
    "        verbose=False,\n",
    "        recalculate_trajectory=recalculate_trajectory,\n",
    "        cluster=cluster,\n",
    "        eta12_range=eta12_range,\n",
    "        M_range=M_range,\n",
    "        dt=0.05,\n",
    "        angle=0,\n",
    ")"
   ]
  },
  {
   "cell_type": "markdown",
   "metadata": {},
   "source": [
    "## Diffusivity ratio and localization $\\lg B(\\gamma, \\eta_1)$"
   ]
  },
  {
   "cell_type": "code",
   "execution_count": null,
   "metadata": {},
   "outputs": [],
   "source": [
    "if not group_calculation:\n",
    "    clear_arguments_file(cluster)\n",
    "    \n",
    "_ = contour_plot_localized_gamma_v_eta(\n",
    "        var = 'eta1',\n",
    "        trials=trials_high_res,\n",
    "        verbose=False,\n",
    "        recalculate_trajectory=recalculate_trajectory,\n",
    "        cluster=cluster,\n",
    "        Ms= Ms,\n",
    "        gamma_range=gamma_range,\n",
    "        eta_range=eta_range,\n",
    "        dt=0.05,\n",
    "        angle=0,\n",
    ")"
   ]
  },
  {
   "cell_type": "markdown",
   "metadata": {},
   "source": [
    "## Diffusivity ratio and localization $\\lg B(\\gamma, \\eta_2)$"
   ]
  },
  {
   "cell_type": "code",
   "execution_count": null,
   "metadata": {},
   "outputs": [],
   "source": [
    "if not group_calculation:\n",
    "    clear_arguments_file(cluster)\n",
    "    \n",
    "_ = contour_plot_localized_gamma_v_eta(\n",
    "        var = 'eta2',\n",
    "        trials=trials_low_res,\n",
    "        verbose=False,\n",
    "        recalculate_trajectory=recalculate_trajectory,\n",
    "        cluster=cluster,\n",
    "        Ms= Ms,\n",
    "        gamma_range=gamma_range,\n",
    "        eta_range=eta_range,\n",
    "        dt=0.05,\n",
    "        angle=0,\n",
    ")"
   ]
  },
  {
   "cell_type": "markdown",
   "metadata": {},
   "source": [
    "## Diffusivity ratio and trajectory length $\\lg B(\\gamma, M)$"
   ]
  },
  {
   "cell_type": "code",
   "execution_count": null,
   "metadata": {},
   "outputs": [],
   "source": [
    "if not group_calculation:\n",
    "    clear_arguments_file(cluster)\n",
    "    \n",
    "_ = contour_plot_localized_gamma_v_M(\n",
    "        trials=trials_low_res,\n",
    "        verbose=False,\n",
    "        recalculate_trajectory=recalculate_trajectory,\n",
    "        cluster=cluster,\n",
    "        gamma_range=gamma_range,\n",
    "        M_range=M_range,\n",
    "        dt=0.05,\n",
    "        angle=0,\n",
    ")"
   ]
  },
  {
   "cell_type": "code",
   "execution_count": null,
   "metadata": {},
   "outputs": [],
   "source": []
  },
  {
   "cell_type": "code",
   "execution_count": null,
   "metadata": {},
   "outputs": [],
   "source": []
  },
  {
   "cell_type": "markdown",
   "metadata": {},
   "source": [
    "# Other"
   ]
  },
  {
   "cell_type": "markdown",
   "metadata": {
    "heading_collapsed": true
   },
   "source": [
    "## Test the free Hookean model on a trajectory with no link"
   ]
  },
  {
   "cell_type": "code",
   "execution_count": null,
   "metadata": {
    "hidden": true
   },
   "outputs": [],
   "source": [
    "recalculate_trajectory = 0\n",
    "cluster = 1\n",
    "\n",
    "clear_arguments_file(cluster)\n",
    "    \n",
    "#\n",
    "lgbfvals = plot_free_hookean_length_dependence(trials=50, verbose=False,\n",
    "                                        recalculate_trajectory=False,\n",
    "                                        cluster=cluster, Ms=[1000], l0_range=[1e-1, 1e4],\n",
    "                                        model='free_same_D')"
   ]
  },
  {
   "cell_type": "markdown",
   "metadata": {
    "heading_collapsed": true
   },
   "source": [
    "## Localized models"
   ]
  },
  {
   "cell_type": "code",
   "execution_count": null,
   "metadata": {
    "hidden": true
   },
   "outputs": [],
   "source": [
    "lg_BF_vals = plot_free_hookean_link_strength_dependence(\n",
    "    trials=20, n12_range=[1e-1, 1e2], verbose=False, recalculate_trajectory=recalculate_trajectory, \n",
    "    cluster=cluster, model = 'free_same_D')"
   ]
  },
  {
   "cell_type": "code",
   "execution_count": null,
   "metadata": {
    "hidden": true
   },
   "outputs": [],
   "source": [
    "lg_BF_vals = plot_link_strength_dependence(\n",
    "    trials=5, n12_range=[1e-1, 1e2], verbose=False, recalculate_trajectory=recalculate_trajectory, recalculate_BF=recalculate_BF, cluster=cluster)\n",
    "\n",
    "lg_BF_vals = plot_diffusivity_dependence(\n",
    "    trials=200, D1_range=[1e-2, 5], verbose=False, recalculate_trajectory=recalculate_trajectory, recalculate_BF=recalculate_BF, cluster=cluster)\n",
    "\n",
    "\n",
    "lg_BF_vals = plot_localization_dependence(\n",
    "    trials=200, n_range=[0.3, 100], verbose=False, recalculate_trajectory=recalculate_trajectory, recalculate_BF=recalculate_BF, cluster=cluster)"
   ]
  },
  {
   "cell_type": "markdown",
   "metadata": {
    "heading_collapsed": true
   },
   "source": [
    "## Angle detection"
   ]
  },
  {
   "cell_type": "code",
   "execution_count": null,
   "metadata": {
    "hidden": true
   },
   "outputs": [],
   "source": [
    "recalculate_trajectory = 0\n",
    "recalculate_BF = 0\n",
    "cluster = 1\n",
    "clear_arguments_file(cluster)\n",
    "        \n",
    "\n",
    "lg_BF_vals = plot_angle_dependence(\n",
    "     trials=10, points = 2**6 +1, verbose=False, recalculate_trajectory=recalculate_trajectory,\n",
    "     recalculate_BF=recalculate_BF, cluster=cluster)"
   ]
  },
  {
   "cell_type": "markdown",
   "metadata": {
    "heading_collapsed": true
   },
   "source": [
    "## Dependence on the link strength"
   ]
  },
  {
   "cell_type": "code",
   "execution_count": null,
   "metadata": {
    "hidden": true
   },
   "outputs": [],
   "source": [
    "recalculate_trajectory = 0\n",
    "recalculate_BF = 0\n",
    "cluster = 1\n",
    "clear_arguments_file(cluster)\n",
    "\n",
    "lg_BF_vals = plot_link_strength_dependence(\n",
    "    trials=10, points = 2**5 + 1, n12_range=[1e-1, 1e2], verbose=False, recalculate_trajectory=recalculate_trajectory,\n",
    "    recalculate_BF=recalculate_BF, cluster=cluster)"
   ]
  },
  {
   "cell_type": "markdown",
   "metadata": {},
   "source": [
    "## Dependence on the diffusivity"
   ]
  },
  {
   "cell_type": "code",
   "execution_count": null,
   "metadata": {},
   "outputs": [],
   "source": [
    "recalculate_trajectory = 0\n",
    "recalculate_BF = 0\n",
    "cluster = 1\n",
    "clear_arguments_file(cluster)\n",
    "\n",
    "plot_diffusivity_dependence(\n",
    "    trials=10, points = 2**5 + 1, D1_range=[1e-2, 5], verbose=False, recalculate_trajectory=recalculate_trajectory,\n",
    "    recalculate_BF=recalculate_BF, cluster=cluster)"
   ]
  },
  {
   "cell_type": "code",
   "execution_count": null,
   "metadata": {},
   "outputs": [],
   "source": [
    "# Yomoni\n",
    "x = range(4, 10)\n",
    "y1 = [5.23, 6.4, 7.61, 8.96, 10.32, 11.68]\n",
    "y3=[8.43, 9.25,10.09,12.13,14,15.87]\n",
    "yall=[15.04, 16.86, 18.73,23.17,27.56,30.26]\n",
    "yloss = [4.7, 6.3, 7.8, 9.1, 10.3, 11.6]\n",
    "import matplotlib.pyplot as plt\n",
    "plt.plot(x,y1, label = 'gain 1')\n",
    "plt.plot(x,y3, label = 'gain 3')\n",
    "plt.plot(x,yall, label = 'gain all')\n",
    "plt.plot(x,yloss, label = 'max. loss')\n",
    "plt.plot(x,x, label = 'unity')\n",
    "plt.legend()\n",
    "# Conclusion: 7 or 8\n"
   ]
  }
 ],
 "metadata": {
  "kernelspec": {
   "display_name": "Python 3",
   "language": "python",
   "name": "python3"
  },
  "language_info": {
   "codemirror_mode": {
    "name": "ipython",
    "version": 3
   },
   "file_extension": ".py",
   "mimetype": "text/x-python",
   "name": "python",
   "nbconvert_exporter": "python",
   "pygments_lexer": "ipython3",
   "version": "3.7.6"
  },
  "toc": {
   "base_numbering": 1,
   "nav_menu": {},
   "number_sections": true,
   "sideBar": true,
   "skip_h1_title": false,
   "title_cell": "Table of Contents",
   "title_sidebar": "Contents",
   "toc_cell": false,
   "toc_position": {
    "height": "calc(100% - 180px)",
    "left": "10px",
    "top": "150px",
    "width": "323.4190979003906px"
   },
   "toc_section_display": true,
   "toc_window_display": false
  }
 },
 "nbformat": 4,
 "nbformat_minor": 2
}
